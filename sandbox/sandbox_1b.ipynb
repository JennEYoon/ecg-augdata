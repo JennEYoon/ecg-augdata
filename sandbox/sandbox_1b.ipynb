{
 "cells": [
  {
   "cell_type": "markdown",
   "id": "8dd1f113-5053-487e-9311-2833c5a69e8d",
   "metadata": {},
   "source": [
    "### Test, WSL repos1, sandbox folder\n",
    "Claude Code test, data augmentation math  \n",
    "July 4, 2025 Friday 7:30 pm start work, 8:15pm this notebook. "
   ]
  },
  {
   "cell_type": "code",
   "execution_count": 4,
   "id": "e57229f9-2d86-47af-a532-87c728566690",
   "metadata": {},
   "outputs": [],
   "source": [
    "import numpy as np\n",
    "import pandas as pd\n",
    "import matplotlib.pyplot as plt\n",
    "import io\n",
    "from scipy.io import loadmat    "
   ]
  },
  {
   "cell_type": "code",
   "execution_count": 2,
   "id": "2e46b2bd-067a-4df8-bc0d-7220a5cf4042",
   "metadata": {},
   "outputs": [],
   "source": [
    "mypath = '/sandbox/'\n",
    "datapath = '/ptbxl_dw_mv/'\n",
    "file1 = 'HR00001.mat'\n",
    "header1 = 'HR00001.hea'"
   ]
  },
  {
   "cell_type": "code",
   "execution_count": 6,
   "id": "48cd6ed0-5dc6-40d1-91f0-1644720890a3",
   "metadata": {},
   "outputs": [
    {
     "ename": "AttributeError",
     "evalue": "module 'io' has no attribute 'loadmat'",
     "output_type": "error",
     "traceback": [
      "\u001b[31m---------------------------------------------------------------------------\u001b[39m",
      "\u001b[31mAttributeError\u001b[39m                            Traceback (most recent call last)",
      "\u001b[36mCell\u001b[39m\u001b[36m \u001b[39m\u001b[32mIn[6]\u001b[39m\u001b[32m, line 5\u001b[39m\n\u001b[32m      3\u001b[39m mat_file_path = mypath + datapath + file1\n\u001b[32m      4\u001b[39m \u001b[38;5;66;03m# how to read .mat file in Python\u001b[39;00m\n\u001b[32m----> \u001b[39m\u001b[32m5\u001b[39m data1 = io.loadmat(mat_file_path)\n\u001b[32m      6\u001b[39m \u001b[38;5;28mprint\u001b[39m(data1)\n",
      "\u001b[31mAttributeError\u001b[39m: module 'io' has no attribute 'loadmat'"
     ]
    }
   ],
   "source": [
    "# load .mat file  \n",
    "# Join datapath and file1 to load .mat file\n",
    "mat_file_path = mypath + datapath + file1\n",
    "# how to read .mat file in Python\n",
    "data1 = io.loadmat(mat_file_path)\n",
    "print(data1)\n",
    "\n",
    "\n",
    "\n"
   ]
  },
  {
   "cell_type": "code",
   "execution_count": null,
   "id": "ff976632-12ab-4cdd-8959-fc3b91017ef2",
   "metadata": {},
   "outputs": [],
   "source": []
  },
  {
   "cell_type": "code",
   "execution_count": null,
   "id": "2985242c-db48-4c47-8485-fe43c37b768b",
   "metadata": {},
   "outputs": [],
   "source": []
  },
  {
   "cell_type": "code",
   "execution_count": null,
   "id": "a29b0084-aa29-44bc-827f-1b3a57772938",
   "metadata": {},
   "outputs": [],
   "source": []
  },
  {
   "cell_type": "code",
   "execution_count": null,
   "id": "00fa53e7-2317-48d8-942a-66d8d790b017",
   "metadata": {},
   "outputs": [],
   "source": []
  },
  {
   "cell_type": "code",
   "execution_count": null,
   "id": "4afa236f-da77-43ea-9a2f-01359f61add8",
   "metadata": {},
   "outputs": [],
   "source": []
  }
 ],
 "metadata": {
  "kernelspec": {
   "display_name": "ecg",
   "language": "python",
   "name": "python3"
  },
  "language_info": {
   "codemirror_mode": {
    "name": "ipython",
    "version": 3
   },
   "file_extension": ".py",
   "mimetype": "text/x-python",
   "name": "python",
   "nbconvert_exporter": "python",
   "pygments_lexer": "ipython3",
   "version": "3.13.3"
  }
 },
 "nbformat": 4,
 "nbformat_minor": 5
}
